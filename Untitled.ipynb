{
 "cells": [
  {
   "cell_type": "code",
   "execution_count": 20,
   "metadata": {
    "collapsed": false
   },
   "outputs": [],
   "source": [
    "import numpy as np\n",
    "from collections import defaultdict, Counter\n",
    "from sklearn.feature_extraction.text import CountVectorizer, TfidfVectorizer\n",
    "from sklearn.feature_extraction.text import TfidfTransformer\n",
    "from sklearn.preprocessing import normalize\n",
    "from sklearn.linear_model import LogisticRegression\n",
    "from sklearn.svm import SVC\n",
    "from sklearn.decomposition import NMF, LatentDirichletAllocation"
   ]
  },
  {
   "cell_type": "code",
   "execution_count": 2,
   "metadata": {
    "collapsed": false
   },
   "outputs": [],
   "source": [
    "def parseData(file, read_limit = 100000):\n",
    "    null = None\n",
    "    with open(file, errors='ignore') as f:\n",
    "        i=0\n",
    "        for l in f:\n",
    "            if i<read_limit:\n",
    "                i+=1;\n",
    "                yield eval(l)\n",
    "            else :\n",
    "                break\n",
    "            \n",
    "def LoadData(f):\n",
    "    return list(parseData(f))\n",
    "\n",
    "review_data = LoadData('yelp_academic_dataset_review.json')\n",
    "tip_data = LoadData('yelp_academic_dataset_tip.json')\n",
    "business_data = LoadData('yelp_academic_dataset_business.json')"
   ]
  },
  {
   "cell_type": "code",
   "execution_count": 3,
   "metadata": {
    "collapsed": false
   },
   "outputs": [],
   "source": [
    "cat_dict = defaultdict(int)\n",
    "biz_cat_map = defaultdict(list)\n",
    "for data in business_data:\n",
    "    if data['categories'] != None:\n",
    "        biz_cat_map[data['business_id']] = data['categories']\n",
    "        for cat  in data['categories']:\n",
    "            cat_dict[cat]+=1"
   ]
  },
  {
   "cell_type": "code",
   "execution_count": 4,
   "metadata": {
    "collapsed": false
   },
   "outputs": [],
   "source": [
    "#years = [d['date'].split('-')[0] for d in data]\n",
    "#data[0]['date'].split('-')[0]\n",
    "sort_cat =  sorted(cat_dict.items(), key=lambda x:x[1])[-50:]\n",
    "sort_cat.reverse()\n",
    "sorted_cat = [d[0] for d in sort_cat]"
   ]
  },
  {
   "cell_type": "code",
   "execution_count": 5,
   "metadata": {
    "collapsed": false
   },
   "outputs": [
    {
     "data": {
      "text/plain": [
       "{'business_id': '2aFiy99vNLklCx3T_tGS9A',\n",
       " 'cool': 0,\n",
       " 'date': '2011-10-10',\n",
       " 'funny': 0,\n",
       " 'review_id': 'NxL8SIC5yqOdnlXCg18IBg',\n",
       " 'stars': 5,\n",
       " 'text': \"If you enjoy service by someone who is as competent as he is personable, I would recommend Corey Kaplan highly. The time he has spent here has been very productive and working with him educational and enjoyable. I hope not to need him again (though this is highly unlikely) but knowing he is there if I do is very nice. By the way, I'm not from El Centro, CA. but Scottsdale, AZ.\",\n",
       " 'type': 'review',\n",
       " 'useful': 0,\n",
       " 'user_id': 'KpkOkG6RIf4Ra25Lhhxf1A'}"
      ]
     },
     "execution_count": 5,
     "metadata": {},
     "output_type": "execute_result"
    }
   ],
   "source": [
    "review_data[0]"
   ]
  },
  {
   "cell_type": "code",
   "execution_count": 6,
   "metadata": {
    "collapsed": false
   },
   "outputs": [
    {
     "data": {
      "text/plain": [
       "{'address': '1911 Monroe St',\n",
       " 'attributes': ['BusinessAcceptsCreditCards: True'],\n",
       " 'business_id': '1tgd4NvJ3T8qmp8SJ4S7sw',\n",
       " 'categories': ['Event Planning & Services', 'Photographers'],\n",
       " 'city': 'Madison',\n",
       " 'hours': ['Monday 8:30-17:0',\n",
       "  'Tuesday 8:30-17:0',\n",
       "  'Wednesday 8:30-17:0',\n",
       "  'Thursday 8:30-17:0',\n",
       "  'Friday 8:30-17:0'],\n",
       " 'is_open': 1,\n",
       " 'latitude': 43.0641272,\n",
       " 'longitude': -89.4177876,\n",
       " 'name': 'Empire Photography',\n",
       " 'neighborhood': 'Vilas',\n",
       " 'postal_code': '53711',\n",
       " 'review_count': 4,\n",
       " 'stars': 3.0,\n",
       " 'state': 'WI',\n",
       " 'type': 'business'}"
      ]
     },
     "execution_count": 6,
     "metadata": {},
     "output_type": "execute_result"
    }
   ],
   "source": [
    "business_data[78]"
   ]
  },
  {
   "cell_type": "code",
   "execution_count": 7,
   "metadata": {
    "collapsed": false
   },
   "outputs": [],
   "source": [
    "Y_cat=[]\n",
    "for data in review_data:\n",
    "    biz_id = data['business_id']\n",
    "    biz_cat = biz_cat_map[biz_id]\n",
    "    done = False\n",
    "    if len(biz_cat) > 0: \n",
    "        for i in range(len(sort_cat)):\n",
    "            if sorted_cat[i] in biz_cat:\n",
    "                Y_cat.append(i)\n",
    "                done = True\n",
    "                break\n",
    "        if done == False:\n",
    "            Y_cat.append(len(sort_cat))\n",
    "            "
   ]
  },
  {
   "cell_type": "code",
   "execution_count": 8,
   "metadata": {
    "collapsed": false
   },
   "outputs": [
    {
     "data": {
      "text/plain": [
       "Counter({0: 25610,\n",
       "         1: 11077,\n",
       "         2: 7187,\n",
       "         3: 4863,\n",
       "         4: 2778,\n",
       "         5: 3336,\n",
       "         6: 2628,\n",
       "         8: 1978,\n",
       "         9: 1528,\n",
       "         10: 1761,\n",
       "         11: 2656,\n",
       "         18: 1103,\n",
       "         20: 563,\n",
       "         34: 356,\n",
       "         35: 925,\n",
       "         50: 1447})"
      ]
     },
     "execution_count": 8,
     "metadata": {},
     "output_type": "execute_result"
    }
   ],
   "source": [
    "Counter(Y_cat)"
   ]
  },
  {
   "cell_type": "code",
   "execution_count": 21,
   "metadata": {
    "collapsed": false
   },
   "outputs": [
    {
     "name": "stdout",
     "output_type": "stream",
     "text": [
      "\n",
      "Topics in NMF model:\n",
      "Topic #0:\n",
      "time did said told went got didn called car asked day took came minutes just work business company phone wanted\n",
      "Topic #1:\n",
      "und die der das ist ich sehr nicht auch es mit war ein zu man wir aber den fã¼r auf\n",
      "Topic #2:\n",
      "food chicken restaurant menu ordered lunch fresh delicious sauce order salad rice meal eat soup fried sandwich dishes cheese beef\n",
      "Topic #3:\n",
      "great job prices selection awesome atmosphere fun price definitely experience food time loved work spot little music thanks kids did\n",
      "Topic #4:\n",
      "store items shop selection prices stores buy shopping products shoes clothes stuff clothing sales looking quality sale grocery helpful need\n",
      "Topic #5:\n",
      "et le la est les pour une des pas en que dã je plus es ambiance mã restaurant son super\n",
      "Topic #6:\n",
      "like really just bar don people ve little nice night area pretty lot think know bit room feel small ll\n",
      "Topic #7:\n",
      "hair cut salon color haircut job style appointment did does wanted look amazing going years time happy ve products long\n",
      "Topic #8:\n",
      "recommend dr highly best ve amazing years work professional office care family feel dentist wonderful job experience definitely pain going\n",
      "Topic #9:\n",
      "good pretty really prices selection price nice quality overall value quite decent bad reasonable bit cheap beer little atmosphere stuff\n",
      "Topic #10:\n",
      "place closed looking best sushi cheap clean try awesome want places nice stars owner town eat friends definitely new check\n",
      "Topic #11:\n",
      "service customer excellent location fast rude slow worst horrible food quality poor terrible manager business friendly bad customers quick times\n",
      "Topic #12:\n",
      "staff friendly helpful nice clean super location knowledgeable extremely selection prices quick easy office fast wait hotel welcoming time definitely\n",
      "Topic #13:\n",
      "pizza cheese sauce order delivery wings toppings ordered italian fresh pasta garlic best delicious bread try just better ingredients taste\n",
      "Topic #14:\n",
      "coffee shop breakfast cream tea ice chocolate cafe starbucks cup cake delicious little sandwiches free milk sandwich morning fresh hot\n",
      "Topic #15:\n",
      "love awesome amazing absolutely fun kids favorite time new best dog sweet dogs wonderful super make cute beautiful perfect come\n",
      "\n",
      "\n",
      "Topics in LDA model:\n",
      "Topic #0:\n",
      "free wine stop game downtown hit neighborhood west toppings bottle tv miss sports yogurt games chain frozen added glass cheap\n",
      "Topic #1:\n",
      "time did told got didn went said hair asked called took work service day came minutes just car wanted experience\n",
      "Topic #2:\n",
      "la et le est pour les dã des en une que pas je plus service es restaurant mã ambiance son\n",
      "Topic #3:\n",
      "room dr office staff years stay hotel pool just like feel work care ve really market people new home time\n",
      "Topic #4:\n",
      "great friendly recommend place pizza service love staff amazing best highly awesome definitely nice excellent super good really fantastic wonderful\n",
      "Topic #5:\n",
      "location like lot parking makes good street pretty feel free make area bit don clean easy just nice level people\n",
      "Topic #6:\n",
      "und die der das ist ich nicht es auch mit war sehr ein man zu wir den aber fã¼r im\n",
      "Topic #7:\n",
      "store shop helpful buy selection items like great really place prices staff stuff good just looking products love need little\n",
      "Topic #8:\n",
      "coffee dog tea park city fan dogs range chocolate cafe bike mom cup bakery variety love hot green wide milk\n",
      "Topic #9:\n",
      "bar place night drinks nice good like people music drink just area beer tables table great really pretty outside club\n",
      "Topic #10:\n",
      "food chicken ordered restaurant sauce order menu rice meal fried fish came dish salad pork beef meat dinner soup table\n",
      "Topic #11:\n",
      "don just like place money service know people customer want bad needs customers rude said time business review say think\n",
      "Topic #12:\n",
      "food ve good place service really time times quality best better pretty don quite like just sushi bit places experience\n",
      "Topic #13:\n",
      "kids vegas fun class ice great year old school wedding event love classes party cream day little family las beautiful\n",
      "Topic #14:\n",
      "like just good really cheese try wasn didn got burger ordered place taste little sweet went think pretty bit friend\n",
      "Topic #15:\n",
      "food good lunch fresh place breakfast sandwich menu delicious great nice tasty sandwiches restaurant salad service thai eat little try\n",
      "\n"
     ]
    }
   ],
   "source": [
    "n_top_words = 20\n",
    "n_feat = 1000\n",
    "n_topics = 16\n",
    "def print_top_words(model, feature_names, n_top_words):\n",
    "    for topic_idx, topic in enumerate(model.components_):\n",
    "        print(\"Topic #%d:\" % topic_idx)\n",
    "        print(\" \".join([feature_names[i]\n",
    "                        for i in topic.argsort()[:-n_top_words - 1:-1]]))\n",
    "    print()\n",
    "\n",
    "\n",
    "corpus = [d['text'] for d in review_data if len(biz_cat_map[d['business_id']])> 0]\n",
    "tf_vectorizer = CountVectorizer(max_features=1000, stop_words='english', max_df=0.95, min_df=2)\n",
    "tf = tf_vectorizer.fit_transform(corpus)\n",
    "\n",
    "\n",
    "tfidf_vectorizer = TfidfVectorizer(max_features=1000, stop_words='english', max_df=0.95, min_df=2)\n",
    "tfidf = tfidf_vectorizer.fit_transform(corpus)\n",
    "\n",
    "nmf = NMF(n_components=n_topics, random_state=1,\n",
    "          alpha=.1, l1_ratio=.5).fit(tfidf)\n",
    "\n",
    "print(\"\\nTopics in NMF model:\")\n",
    "tfidf_feature_names = tfidf_vectorizer.get_feature_names()\n",
    "print_top_words(nmf, tfidf_feature_names, n_top_words)\n",
    "\n",
    "lda = LatentDirichletAllocation(n_topics=n_topics, max_iter=5,\n",
    "                                learning_method='online',\n",
    "                                learning_offset=50.,\n",
    "                                random_state=0).fit(tf)\n",
    "print(\"\\nTopics in LDA model:\")\n",
    "tf_feature_names = tf_vectorizer.get_feature_names()\n",
    "print_top_words(lda, tf_feature_names, n_top_words)\n",
    "\n",
    "# In[]\n",
    "def addUnigramTfIdf(s):\n",
    "    e = []\n",
    "    tf = vectorizer.transform([s]).toarray()\n",
    "    tfidf = tf * idf\n",
    "    tfidf = normalize(tfidf)\n",
    "    for i in tfidf[0]:\n",
    "         e.append(i)   \n",
    "    return e"
   ]
  },
  {
   "cell_type": "code",
   "execution_count": 14,
   "metadata": {
    "collapsed": true
   },
   "outputs": [],
   "source": [
    "X = [addUnigramTfIdf(d['text']) for d in review_data if len(biz_cat_map[d['business_id']])>0]"
   ]
  },
  {
   "cell_type": "code",
   "execution_count": 15,
   "metadata": {
    "collapsed": false
   },
   "outputs": [],
   "source": [
    "clf = LogisticRegression(solver='sag', max_iter=100, random_state=42,multi_class='multinomial').fit(X, Y_cat)\n"
   ]
  },
  {
   "cell_type": "code",
   "execution_count": 16,
   "metadata": {
    "collapsed": false
   },
   "outputs": [
    {
     "name": "stdout",
     "output_type": "stream",
     "text": [
      "training score : 0.747 (multinomial)\n"
     ]
    }
   ],
   "source": [
    "print(\"training score : %.3f (%s)\" % (clf.score(X, Y_cat), 'multinomial'))"
   ]
  },
  {
   "cell_type": "code",
   "execution_count": 17,
   "metadata": {
    "collapsed": false
   },
   "outputs": [
    {
     "data": {
      "text/plain": [
       "array([37])"
      ]
     },
     "execution_count": 17,
     "metadata": {},
     "output_type": "execute_result"
    }
   ],
   "source": [
    "clf.n_iter_ "
   ]
  },
  {
   "cell_type": "code",
   "execution_count": 18,
   "metadata": {
    "collapsed": false
   },
   "outputs": [
    {
     "data": {
      "text/plain": [
       "(69796, 69796)"
      ]
     },
     "execution_count": 18,
     "metadata": {},
     "output_type": "execute_result"
    }
   ],
   "source": [
    "len(X), len(Y_cat)"
   ]
  },
  {
   "cell_type": "code",
   "execution_count": null,
   "metadata": {
    "collapsed": false
   },
   "outputs": [],
   "source": []
  },
  {
   "cell_type": "code",
   "execution_count": null,
   "metadata": {
    "collapsed": true
   },
   "outputs": [],
   "source": []
  }
 ],
 "metadata": {
  "anaconda-cloud": {},
  "kernelspec": {
   "display_name": "Python [default]",
   "language": "python",
   "name": "python3"
  },
  "language_info": {
   "codemirror_mode": {
    "name": "ipython",
    "version": 3
   },
   "file_extension": ".py",
   "mimetype": "text/x-python",
   "name": "python",
   "nbconvert_exporter": "python",
   "pygments_lexer": "ipython3",
   "version": "3.5.2"
  }
 },
 "nbformat": 4,
 "nbformat_minor": 1
}
